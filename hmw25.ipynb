{
 "cells": [
  {
   "cell_type": "code",
   "execution_count": 6,
   "id": "a266e8c0-674c-4441-af50-8f3aa4453435",
   "metadata": {},
   "outputs": [],
   "source": [
    "import pandas as pd"
   ]
  },
  {
   "cell_type": "code",
   "execution_count": 64,
   "id": "f42ecaac-0ed8-412a-a8db-fefa9beb1308",
   "metadata": {},
   "outputs": [
    {
     "name": "stdout",
     "output_type": "stream",
     "text": [
      "0                          Planet Coaster 2\n",
      "1                Mario & Luigi: Brothership\n",
      "2                               Slitterhead\n",
      "3               The Rise of the Golden Idol\n",
      "4               Dragon Quest 3 HD-2D Remake\n",
      "5           Microsoft Flight Simulator 2024\n",
      "6             Stalker 2: Heart of Chornobyl\n",
      "7                   Fantasian Neo Dimension\n",
      "8                             Marvel Rivals\n",
      "9        Indiana Jones and the Great Circle\n",
      "10            Blood Line: A Rebel Moon Game\n",
      "11    The Legend of Zelda: Echoes of Wisdom\n",
      "dtype: object\n",
      "\n",
      "The Rise of the Golden Idol\n",
      "\n",
      "Planet Coaster 2                         224.96\n",
      "Mario & Luigi: Brothership               187.46\n",
      "Slitterhead                              149.96\n",
      "The Rise of the Golden Idol              131.21\n",
      "Dragon Quest 3 HD-2D Remake              187.46\n",
      "Microsoft Flight Simulator 2024          262.46\n",
      "Stalker 2: Heart of Chornobyl            224.96\n",
      "Fantasian Neo Dimension                  168.71\n",
      "Marvel Rivals                            149.96\n",
      "Indiana Jones and the Great Circle       206.21\n",
      "Blood Line: A Rebel Moon Game              0.00\n",
      "The Legend of Zelda: Echoes of Wisdom    262.46\n",
      "dtype: float64\n",
      "\n",
      "Marvel Rivals price:149.96\n",
      "\n",
      "Index(['Planet Coaster 2', 'Mario & Luigi: Brothership', 'Slitterhead',\n",
      "       'The Rise of the Golden Idol', 'Dragon Quest 3 HD-2D Remake',\n",
      "       'Microsoft Flight Simulator 2024', 'Stalker 2: Heart of Chornobyl',\n",
      "       'Fantasian Neo Dimension', 'Marvel Rivals',\n",
      "       'Indiana Jones and the Great Circle', 'Blood Line: A Rebel Moon Game',\n",
      "       'The Legend of Zelda: Echoes of Wisdom'],\n",
      "      dtype='object')\n",
      "\n",
      "dtype:float64\n",
      "\n",
      "Mario & Luigi: Brothership         187.46\n",
      "Slitterhead                        149.96\n",
      "Microsoft Flight Simulator 2024    262.46\n",
      "dtype: float64\n",
      "\n",
      "                             index       0\n",
      "0       Mario & Luigi: Brothership  187.46\n",
      "1                      Slitterhead  149.96\n",
      "2  Microsoft Flight Simulator 2024  262.46\n",
      "\n"
     ]
    }
   ],
   "source": [
    "games = [\"Planet Coaster 2\", \"Mario & Luigi: Brothership\", \"Slitterhead\", \n",
    "\"The Rise of the Golden Idol\", \"Dragon Quest 3 HD-2D Remake\", \"Microsoft Flight Simulator 2024\", \n",
    "\"Stalker 2: Heart of Chornobyl\", \"Fantasian Neo Dimension\", \"Marvel Rivals\",\n",
    "\"Indiana Jones and the Great Circle\", \"Blood Line: A Rebel Moon Game\",\n",
    "\"The Legend of Zelda: Echoes of Wisdom\"]\n",
    "game_prices = [224.96, 187.46, 149.96, 131.21, 187.46, 262.46, 224.96,\n",
    "168.71, 149.96, 206.21, 0.0, 262.46]\n",
    "\n",
    "games_dict = {\n",
    "    'Mario & Luigi: Brothership': 187.46,\n",
    "    'Slitterhead' :149.96,\n",
    "    'Microsoft Flight Simulator 2024': 262.46,\n",
    "}\n",
    "\n",
    "pd_series = pd.Series(games)\n",
    "new_series = pd.Series(data= game_prices, index= games)\n",
    "dict_series = pd.Series(data=games_dict.values(), index=games_dict.keys())\n",
    "without_index = dict_series.reset_index()\n",
    "\n",
    "print(f'{pd_series}\\n')\n",
    "print(f'{pd_series[3]}\\n')\n",
    "print(f'{new_series}\\n')\n",
    "print(f'Marvel Rivals price:{new_series['Marvel Rivals']}\\n')\n",
    "print(f'{new_series.index}\\n')\n",
    "print(f'dtype:{new_series.dtype}\\n')\n",
    "print(f'{dict_series}\\n')\n",
    "print(f'{without_index}\\n')\n"
   ]
  },
  {
   "cell_type": "markdown",
   "id": "3b247ee8-0af7-4409-8a6e-d1d13275528d",
   "metadata": {},
   "source": [
    "## ההבדל בין פעולת add ל + :"
   ]
  },
  {
   "cell_type": "code",
   "execution_count": 72,
   "id": "4faab8d9-69cc-4c75-ac6a-2818f0e1732b",
   "metadata": {},
   "outputs": [
    {
     "name": "stdout",
     "output_type": "stream",
     "text": [
      "Using + :\n",
      " 0    11.0\n",
      "1    22.0\n",
      "2     NaN\n",
      "3    44.0\n",
      "dtype: float64\n",
      "\n",
      "Using .add() with fill_value=0 :\n",
      " 0    11.0\n",
      "1    22.0\n",
      "2    30.0\n",
      "3    44.0\n",
      "dtype: float64\n"
     ]
    }
   ],
   "source": [
    "import numpy as np\n",
    "s1 = pd.Series([1, 2, np.nan, 4])\n",
    "s2 = pd.Series([10, 20, 30, 40])\n",
    "\n",
    "# ערך הכלום ישאר כך\n",
    "print('Using + :\\n', s1 + s2)\n",
    "\n",
    "# מילוי ערך הכלום לבחירתי עם FILLֹ_VALUE\n",
    "print('\\nUsing .add() with fill_value=0 :\\n', s1.add(s2, fill_value=0))"
   ]
  },
  {
   "cell_type": "code",
   "execution_count": 88,
   "id": "1d8a754e-4b22-4a7f-9a07-ac4a22cf3f63",
   "metadata": {},
   "outputs": [
    {
     "name": "stdout",
     "output_type": "stream",
     "text": [
      "original prices:\n",
      " Planet Coaster 2                         224.96\n",
      "Mario & Luigi: Brothership               187.46\n",
      "Slitterhead                              149.96\n",
      "Marvel Rivals                            149.96\n",
      "The Legend of Zelda: Echoes of Wisdom    262.46\n",
      "dtype: float64\n",
      "\n",
      "prices after discount: \n",
      "Planet Coaster 2                         174.96\n",
      "Mario & Luigi: Brothership               187.46\n",
      "Slitterhead                              149.96\n",
      "Marvel Rivals                             69.96\n",
      "The Legend of Zelda: Echoes of Wisdom    247.46\n",
      "dtype: float64\n"
     ]
    }
   ],
   "source": [
    "games_before_discount = {\"Planet Coaster 2\": 224.96,\n",
    "                         \"Mario & Luigi: Brothership\": 187.46,\n",
    "                         \"Slitterhead\": 149.96,\n",
    "                         \"Marvel Rivals\": 149.96,\n",
    "                         \"The Legend of Zelda: Echoes of Wisdom\": 262.46 }\n",
    "\n",
    "games_series = pd.Series(data= games_before_discount.values(), index= games_before_discount.keys())\n",
    "discount_series = pd.Series(data= [-50, None, None, -80, -15], index= games_before_discount.keys())\n",
    "final_price = games_series.add(discount_series, fill_value=0)\n",
    "\n",
    "print(f'original prices:\\n {games_series}\\n')\n",
    "print(f'prices after discount: \\n{final_price}')"
   ]
  }
 ],
 "metadata": {
  "kernelspec": {
   "display_name": "Python 3 (ipykernel)",
   "language": "python",
   "name": "python3"
  },
  "language_info": {
   "codemirror_mode": {
    "name": "ipython",
    "version": 3
   },
   "file_extension": ".py",
   "mimetype": "text/x-python",
   "name": "python",
   "nbconvert_exporter": "python",
   "pygments_lexer": "ipython3",
   "version": "3.12.7"
  }
 },
 "nbformat": 4,
 "nbformat_minor": 5
}
